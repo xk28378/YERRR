{
 "cells": [
  {
   "cell_type": "code",
   "id": "0b9b2605",
   "metadata": {
    "jupyter": {
     "is_executing": true
    }
   },
   "source": [
    "#Run this cell to load all the framework for Task1 . Feel free to import any standard library here you will need \n",
    "import numpy as np\n",
    "import pandas as pd\n",
    "import unittest\n",
    "import os\n",
    "import sys\n",
    "import warnings\n",
    "warnings.filterwarnings(\"ignore\")\n",
    "\n",
    "\n",
    "task_path = os.path.abspath(os.path.join(os.getcwd(),\"..\"))\n",
    "sys.path.append(task_path)\n",
    "from task1 import *\n",
    "utils_path = os.path.abspath(os.path.join(os.getcwd(),\"..\",\"tests\"))\n",
    "sys.path.append(utils_path)\n",
    "from utils import *"
   ],
   "outputs": [],
   "execution_count": null
  },
  {
   "cell_type": "markdown",
   "id": "ab20fffa",
   "metadata": {},
   "source": [
    "## `find_data_type`\n",
    "In this function you will take a dataset and the name of a column in it and return what datatype the column is\n",
    "##### Useful Resources\n",
    "https://pandas.pydata.org/pandas-docs/stable/reference/api/pandas.DataFrame.dtypes.html\n",
    "\n",
    "##### INPUTS\n",
    "* `dataset` - a pandas DataFrame that contains some data\n",
    "\n",
    "##### OUTPUTS \n",
    "data type of the column (`np.dtype`)"
   ]
  },
  {
   "cell_type": "code",
   "execution_count": null,
   "id": "d22d3bf1",
   "metadata": {},
   "outputs": [],
   "source": [
    "# Write your code here\n",
    "def find_data_type(dataset:pd.DataFrame,column_name:str) -> np.dtype:\n",
    "    # TODO: Read https://github.gatech.edu/pages/cs6035-tools/cs6035-tools.github.io/Projects/Machine_Learning/Task1.html and implement the function as described\n",
    "    return np.dtype()"
   ]
  },
  {
   "cell_type": "code",
   "execution_count": null,
   "id": "f31410d7",
   "metadata": {},
   "outputs": [],
   "source": [
    "# Run this cell to test your code\n",
    "dataset = pd.read_csv(os.path.join(os.getcwd(),\"../task1/sample.csv\"))\n",
    "#print(dataset)\n",
    "\n",
    "if find_data_type(dataset, \"target\") == np.int64 and find_data_type(dataset, \"color\") == object and find_data_type(dataset, \"version\") == np.int64:\n",
    "    print('Passed...')\n",
    "else:\n",
    "    print('Failed...')"
   ]
  },
  {
   "cell_type": "markdown",
   "id": "2c1fc3d6",
   "metadata": {},
   "source": [
    "## `set_index_col`\n",
    "In this function you will take a dataset and a series and set the index of the dataset to be the series\n",
    "\n",
    "##### Useful Resources\n",
    "https://pandas.pydata.org/pandas-docs/stable/reference/api/pandas.Index.html\n",
    "\n",
    "##### INPUTS\n",
    "* `dataset` - a pandas DataFrame that contains some data\n",
    "* `index` -  a pandas series that contains an index for the dataset\n",
    "\n",
    "##### OUTPUTS \n",
    "a pandas DataFrame indexed by the given index series"
   ]
  },
  {
   "cell_type": "code",
   "execution_count": null,
   "id": "472c1c55",
   "metadata": {},
   "outputs": [],
   "source": [
    "# Write your code here\n",
    "# Set column as index \n",
    "def set_index_col(dataset:pd.DataFrame,index:pd.Series) -> pd.DataFrame:\n",
    "    # TODO: Read https://github.gatech.edu/pages/cs6035-tools/cs6035-tools.github.io/Projects/Machine_Learning/Task1.html and implement the function as described\n",
    "    return pd.DataFrame()"
   ]
  },
  {
   "cell_type": "code",
   "execution_count": null,
   "id": "9b2abaff",
   "metadata": {},
   "outputs": [],
   "source": [
    "# Run this cell to test your code\n",
    "dataset = pd.read_csv(os.path.join(os.getcwd(),\"../task1/sample.csv\"))\n",
    "#print(dataset)\n",
    "index=dataset.target.to_list()\n",
    "your_answer = set_index_col(dataset,dataset['target'])\n",
    "#print(your_answer)\n",
    "correct_answer_list = dataset.target.tolist()\n",
    "#print(correct_answer)\n",
    "\n",
    "if(your_answer.index.to_list() == correct_answer_list):\n",
    "    print('Passed...')\n",
    "else:\n",
    "    print('Failed...')    "
   ]
  },
  {
   "cell_type": "markdown",
   "id": "c7be4c9a",
   "metadata": {},
   "source": [
    "## `reset_index_col`\n",
    "In this function you will take a dataset with an index already set and reindex the dataset from 0 to n-1, dropping the old index\n",
    "\n",
    "##### Useful Resources\n",
    "https://pandas.pydata.org/pandas-docs/stable/reference/api/pandas.DataFrame.reset_index.html\n",
    "\n",
    "##### INPUTS\n",
    "* `dataset` - a pandas DataFrame that contains some data\n",
    "\n",
    "##### OUTPUTS \n",
    "a pandas DataFrame indexed from 0 to n-1"
   ]
  },
  {
   "cell_type": "code",
   "execution_count": null,
   "id": "73bd9a1b",
   "metadata": {},
   "outputs": [],
   "source": [
    "# Write your code here\n",
    "# Reset column as index\n",
    "def reset_index_col(dataset:pd.DataFrame) -> pd.DataFrame:\n",
    "    # TODO: Read https://github.gatech.edu/pages/cs6035-tools/cs6035-tools.github.io/Projects/Machine_Learning/Task1.html and implement the function as described\n",
    "    return pd.DataFrame()"
   ]
  },
  {
   "cell_type": "code",
   "execution_count": null,
   "id": "aa86c2f8",
   "metadata": {},
   "outputs": [],
   "source": [
    "# Run this cell to test your code\n",
    "dataset = pd.read_csv(os.path.join(os.getcwd(),\"../task1\",\"reset_index_input.csv\"), index_col=0)\n",
    "#print(dataset)\n",
    "your_answer = reset_index_col(dataset)\n",
    "#print(your_answer)\n",
    "correct_answer = pd.read_csv(os.path.join(os.getcwd(),\"../task1\",\"reset_index_answer.csv\"), index_col=0)\n",
    "#print(correct_answer)\n",
    "\n",
    "if compare_submission_to_answer_df(your_answer,correct_answer,\"reset_index_col\"):\n",
    "    print('Passed...')\n",
    "else:\n",
    "    print('Failed...')"
   ]
  },
  {
   "cell_type": "markdown",
   "id": "75b6f050",
   "metadata": {},
   "source": [
    "## `set_col_type`\n",
    "In this function you will be given a DataFrame, column name and column type. You will edit the dataset to take the column name you are given and set it to be the type given in the input variable\n",
    "\n",
    "##### Useful Resources\n",
    "https://pandas.pydata.org/pandas-docs/stable/reference/api/pandas.DataFrame.astype.html\n",
    "\n",
    "##### INPUTS\n",
    "* `dataset` - a pandas DataFrame that contains some data\n",
    "* `column_name` - a string containing the name of a column\n",
    "* `new_col_type` - a type to change the column to\n",
    "\n",
    "##### OUTPUTS \n",
    "a pandas DataFrame with the column in `column_name` changed to the type in `new_col_type`"
   ]
  },
  {
   "cell_type": "code",
   "execution_count": null,
   "id": "07b0e274",
   "metadata": {},
   "outputs": [],
   "source": [
    "# Write your code here\n",
    "# Set astype (string, int, datetime)\n",
    "def set_col_type(dataset:pd.DataFrame,column_name:str,new_col_type:type) -> pd.DataFrame:\n",
    "    # TODO: Read https://github.gatech.edu/pages/cs6035-tools/cs6035-tools.github.io/Projects/Machine_Learning/Task1.html and implement the function as described\n",
    "    return pd.DataFrame()"
   ]
  },
  {
   "cell_type": "code",
   "execution_count": null,
   "id": "83b7436a",
   "metadata": {},
   "outputs": [],
   "source": [
    "# Run this cell to test your code\n",
    "dataset = pd.read_csv(os.path.join(os.getcwd(),\"../task1/sample.csv\"))\n",
    "#print(dataset)\n",
    "your_answer = set_col_type(dataset, 'target',np.float64)\n",
    "#print(your_answer)\n",
    "\n",
    "if np.dtype(your_answer['target']) == np.float64:\n",
    "    print('Passed...')\n",
    "else:\n",
    "    print('Failed...')"
   ]
  },
  {
   "cell_type": "markdown",
   "id": "27b49343",
   "metadata": {},
   "source": [
    "## `make_DF_from_2d_array`\n",
    "In this function you will take data in an array as well as column and row labels and use that information to create a pandas DataFrame \n",
    "\n",
    "##### Useful Resources\n",
    "https://pandas.pydata.org/pandas-docs/stable/reference/api/pandas.DataFrame.html\n",
    "\n",
    "##### INPUTS\n",
    "* `array_2d` - a 2 dimensional numpy array of values\n",
    "* `column_name_list` - a list of strings holding column names\n",
    "* `index` - a pandas series holding the row index's\n",
    "\n",
    "##### OUTPUTS \n",
    "a pandas DataFrame with columns set from `column_name_list`, row index set from `index` and data set from `array_2d`"
   ]
  },
  {
   "cell_type": "code",
   "execution_count": null,
   "id": "f305dbbb",
   "metadata": {},
   "outputs": [],
   "source": [
    "# Write your code here\n",
    "# Take Matrix of numbers and make it into a dataframe with column name and index numbering\n",
    "def make_DF_from_2d_array(array_2d:np.array,column_name_list:list[str],index:pd.Series) -> pd.DataFrame:\n",
    "    # TODO: Read https://github.gatech.edu/pages/cs6035-tools/cs6035-tools.github.io/Projects/Machine_Learning/Task1.html and implement the function as described\n",
    "    return pd.DataFrame()"
   ]
  },
  {
   "cell_type": "code",
   "execution_count": null,
   "id": "6527c6ca",
   "metadata": {},
   "outputs": [],
   "source": [
    "# Run this cell to test your code\n",
    "array_2d = [[0,1,2],[3,4,5],[6,7,8],[9,10,11],[12,13,14],[15,16,17],[18,19,20],[21,22,23],[24,25,26],[27,28,29]]\n",
    "column_names = [\"A\",\"B\",\"C\"]\n",
    "index = pd.Series([0,5,10,15,20,25,30,35,40,45])\n",
    "your_answer = make_DF_from_2d_array(array_2d,column_names,index)\n",
    "#print(your_answer)\n",
    "correct_answer = pd.read_csv(os.path.join(\"../task1\",\"make_df_from_2d_array.csv\"), index_col=0)\n",
    "#print(correct_answer)\n",
    "\n",
    "if compare_submission_to_answer_df(your_answer,correct_answer,\"make_DF_from_2d_array\"):\n",
    "    print('Passed...')\n",
    "else:\n",
    "    print('Failed...')"
   ]
  },
  {
   "cell_type": "markdown",
   "id": "05596298",
   "metadata": {},
   "source": [
    "## `sort_DF_by_column`\n",
    "In this function, you are given a dataset and column name. You will return a sorted dataset (sorting rows by the value of the specified column) either in descending or ascending order, depending on the value in the `descending` variable.\n",
    "\n",
    "##### Useful Resources\n",
    "https://pandas.pydata.org/pandas-docs/stable/reference/api/pandas.DataFrame.sort_values.html\n",
    "\n",
    "##### INPUTS\n",
    "* `dataset` - a pandas DataFrame that contains some data\n",
    "* `column_name` - a string that contains the column name to sort the data on\n",
    "* `descending` - a boolean value (`True` or `False`) for if the column should be sorted in descending order\n",
    "\n",
    "##### OUTPUTS \n",
    "a pandas DataFrame sorted by the given column name and in descending or ascending order depending on the value of the `descending` variable"
   ]
  },
  {
   "cell_type": "code",
   "execution_count": null,
   "id": "9665037b",
   "metadata": {},
   "outputs": [],
   "source": [
    "# Write your code here\n",
    "# Sort Dataframe by values\n",
    "def sort_DF_by_column(dataset:pd.DataFrame,column_name:str,descending:bool) -> pd.DataFrame:\n",
    "    # TODO: Read https://github.gatech.edu/pages/cs6035-tools/cs6035-tools.github.io/Projects/Machine_Learning/Task1.html and implement the function as described\n",
    "    return pd.DataFrame()"
   ]
  },
  {
   "cell_type": "code",
   "execution_count": null,
   "id": "18d8e9d9",
   "metadata": {},
   "outputs": [],
   "source": [
    "# Run this cell to test your code\n",
    "dataset = pd.read_csv(os.path.join(os.getcwd(),\"../task1/sample.csv\"))\n",
    "#print(dataset)\n",
    "your_answer = sort_DF_by_column(dataset, \"version\", True)\n",
    "#print(your_answer)\n",
    "correct_answer = pd.read_csv(os.path.join(\"../task1\",\"sort_version_desc.csv\"), index_col=0)\n",
    "#print(correct_answer)\n",
    "\n",
    "if compare_submission_to_answer_df(your_answer,correct_answer,\"sort_DF_by_column (version)\"):\n",
    "    print('Passed...')\n",
    "else:\n",
    "    print('Failed...')"
   ]
  },
  {
   "cell_type": "markdown",
   "id": "c265b839",
   "metadata": {},
   "source": [
    "## `drop_NA_cols`\n",
    "In this function you are given a DataFrame you will return a DataFrame with any columns containing `NA` values dropped\n",
    "\n",
    "##### Useful Resources\n",
    "https://pandas.pydata.org/pandas-docs/stable/reference/api/pandas.DataFrame.dropna.html\n",
    "\n",
    "##### INPUTS\n",
    "* `dataset` - a pandas DataFrame that contains some data\n",
    "\n",
    "##### OUTPUTS \n",
    "a pandas DataFrame with any columns that contain an `NA` value dropped"
   ]
  },
  {
   "cell_type": "code",
   "execution_count": null,
   "id": "52e89686",
   "metadata": {},
   "outputs": [],
   "source": [
    "# Write your code here\n",
    "# Drop NA values in dataframe Columns \n",
    "def drop_NA_cols(dataset:pd.DataFrame) -> pd.DataFrame:\n",
    "    # TODO: Read https://github.gatech.edu/pages/cs6035-tools/cs6035-tools.github.io/Projects/Machine_Learning/Task1.html and implement the function as described\n",
    "    return pd.DataFrame()"
   ]
  },
  {
   "cell_type": "code",
   "execution_count": null,
   "id": "01d015b9",
   "metadata": {},
   "outputs": [],
   "source": [
    "# Run this cell to test your code\n",
    "dataset = pd.read_csv(os.path.join(os.getcwd(),\"../sample2.csv\"))\n",
    "#print(dataset)\n",
    "your_answer = drop_NA_cols(dataset)\n",
    "#print(your_answer)\n",
    "correct_answer = pd.read_csv(os.path.join(\"../task1\",\"drop_NA_cols.csv\"))\n",
    "#print(correct_answer)\n",
    "\n",
    "if compare_submission_to_answer_df(your_answer,correct_answer,\"drop_NA_cols)\"):\n",
    "    print('Passed...')\n",
    "else:\n",
    "    print('Failed...')"
   ]
  },
  {
   "cell_type": "markdown",
   "id": "95cbc0bb",
   "metadata": {},
   "source": [
    "## `drop_NA_rows`\n",
    "In this function you are given a DataFrame you will return a DataFrame with any rows containing `NA` values dropped\n",
    "\n",
    "##### Useful Resources\n",
    "https://pandas.pydata.org/pandas-docs/stable/reference/api/pandas.DataFrame.dropna.html\n",
    "\n",
    "##### INPUTS\n",
    "* `dataset` - a pandas DataFrame that contains some data\n",
    "\n",
    "##### OUTPUTS \n",
    "a pandas DataFrame with any rows that contain an `NA` value dropped"
   ]
  },
  {
   "cell_type": "code",
   "execution_count": null,
   "id": "135dbfbf",
   "metadata": {},
   "outputs": [],
   "source": [
    "# Write your code here\n",
    "def drop_NA_rows(dataset:pd.DataFrame) -> pd.DataFrame:\n",
    "    # TODO: Read https://github.gatech.edu/pages/cs6035-tools/cs6035-tools.github.io/Projects/Machine_Learning/Task1.html and implement the function as described\n",
    "    return pd.DataFrame()"
   ]
  },
  {
   "cell_type": "code",
   "execution_count": null,
   "id": "5691a628",
   "metadata": {},
   "outputs": [],
   "source": [
    "# Run this cell to test your code\n",
    "dataset = pd.read_csv(os.path.join(os.getcwd(),\"../sample2.csv\"))\n",
    "#print(dataset)\n",
    "your_answer = drop_NA_rows(dataset)\n",
    "#print(your_answer)\n",
    "correct_answer = pd.read_csv(os.path.join(\"../task1\",\"drop_na_rows.csv\"))\n",
    "#print(correct_answer)\n",
    "\n",
    "if compare_submission_to_answer_df(your_answer,correct_answer,\"drop_NA_rows\"):\n",
    "    print('Passed...')\n",
    "else:\n",
    "    print('Failed...')"
   ]
  },
  {
   "cell_type": "markdown",
   "id": "73342b15",
   "metadata": {},
   "source": [
    "## `make_new_column`\n",
    "In this function you are given a dataset, new column name and a static value for the new column add the new column to the dataset and return the dataset\n",
    "\n",
    "##### Useful Resources\n",
    "https://pandas.pydata.org/pandas-docs/stable/getting_started/intro_tutorials/05_add_columns.html\n",
    "\n",
    "##### INPUTS\n",
    "* `dataset` - a pandas DataFrame that contains some data\n",
    "* `new_column_name` - a string containing the name of the new column to be created\n",
    "* `new_column_value` - a string containing a static value that will be set for the new column for every row \n",
    "\n",
    "##### OUTPUTS \n",
    "a pandas DataFrame with the new column created named `new_column_name` and filled with the value in `new_column_value`"
   ]
  },
  {
   "cell_type": "code",
   "execution_count": null,
   "id": "db58a6ae",
   "metadata": {},
   "outputs": [],
   "source": [
    "# Write your code here\n",
    "def make_new_column(dataset:pd.DataFrame,new_column_name:str,new_column_value:str) -> pd.DataFrame:\n",
    "    # TODO: Read https://github.gatech.edu/pages/cs6035-tools/cs6035-tools.github.io/Projects/Machine_Learning/Task1.html and implement the function as described\n",
    "    return pd.DataFrame()"
   ]
  },
  {
   "cell_type": "code",
   "execution_count": null,
   "id": "53ea59d6",
   "metadata": {},
   "outputs": [],
   "source": [
    "# Run this cell to test your code\n",
    "dataset = pd.read_csv(os.path.join(os.getcwd(),\"../task1/sample.csv\"))\n",
    "#print(dataset)\n",
    "new_column_name = \"New Column\"\n",
    "new_column_values = [12,13,14,15,16,17,18,19,20,21]\n",
    "your_answer = make_new_column(dataset,new_column_name,new_column_values)\n",
    "#print(your_answer)\n",
    "correct_answer = pd.read_csv(os.path.join(\"../task1\",\"make_new_column.csv\"))\n",
    "#print(correct_answer)\n",
    "\n",
    "if compare_submission_to_answer_df(your_answer,correct_answer,\"make_new_column\"):\n",
    "    print('Passed...')\n",
    "else:\n",
    "    print('Failed...')"
   ]
  },
  {
   "cell_type": "markdown",
   "id": "8c718c9e",
   "metadata": {},
   "source": [
    "## `left_merge_DFs_by_column`\n",
    "In this function you are given 2 datasets and the name of a column with which you will left join (left dataset is `dataset1` right dataset is `dataset2`) them on using the pandas merge method.\n",
    "\n",
    "##### Useful Resources\n",
    "https://pandas.pydata.org/pandas-docs/stable/reference/api/pandas.DataFrame.merge.html\n",
    "https://stackoverflow.com/questions/53645882/pandas-merging-101\n",
    "\n",
    "##### INPUTS\n",
    "* `left_dataset` - a pandas DataFrame that contains some data\n",
    "* `right_dataset` - a pandas DataFrame that contains some data\n",
    "* `join_col_name` - a string containing the column name to join the two DataFrames on\n",
    "\n",
    "##### OUTPUTS \n",
    "a pandas DataFrame containing the left 2 datasets left joined together"
   ]
  },
  {
   "cell_type": "code",
   "execution_count": null,
   "id": "fc1bf3dc",
   "metadata": {},
   "outputs": [],
   "source": [
    "# Write your code here\n",
    "def left_merge_DFs_by_column(left_dataset:pd.DataFrame,right_dataset:pd.DataFrame,join_col_name:str) -> pd.DataFrame:\n",
    "    # TODO: Read https://github.gatech.edu/pages/cs6035-tools/cs6035-tools.github.io/Projects/Machine_Learning/Task1.html and implement the function as described\n",
    "    return pd.DataFrame()"
   ]
  },
  {
   "cell_type": "code",
   "execution_count": null,
   "id": "62ae433f",
   "metadata": {},
   "outputs": [],
   "source": [
    "# Run this cell to test your code\n",
    "dataset = pd.read_csv(\"../task1/sample.csv\")\n",
    "#print(dataset)\n",
    "dataset2 = pd.read_csv(\"../sample2.csv\")\n",
    "#print(dataset2)\n",
    "merge_col = \"version\"\n",
    "your_answer = left_merge_DFs_by_column(dataset, dataset2, merge_col)\n",
    "#print(your_answer)\n",
    "correct_answer = pd.read_csv(os.path.join(\"../task1\",\"left_join_dfs_by_column.csv\"))\n",
    "#print(correct_answer)\n",
    "\n",
    "if compare_submission_to_answer_df(your_answer,correct_answer,\"left_merge_DFs_by_column\"):\n",
    "    print('Passed...')\n",
    "else:\n",
    "    print('Failed...')"
   ]
  },
  {
   "cell_type": "markdown",
   "id": "1d55ab3c",
   "metadata": {},
   "source": [
    "## `simpleClass`\n",
    "This project will require you to work with Python Classes. If you are not familiar with them we suggest learning a bit more about them. \n",
    "\n",
    "You will take the inputs into the Class initialization and set them as instance variables (of the same name) in the python class\n",
    "\n",
    "##### Useful Resources\n",
    "https://www.w3schools.com/python/python_classes.asp\n",
    "\n",
    "##### INPUTS\n",
    "* `length` - an integer\n",
    "* `width` - an integer\n",
    "* `height` - an integer\n",
    "\n",
    "##### OUTPUTS \n",
    "None"
   ]
  },
  {
   "cell_type": "code",
   "execution_count": null,
   "id": "8d9e39e5",
   "metadata": {},
   "outputs": [],
   "source": [
    "# Write your code here\n",
    "class simpleClass():\n",
    "    # TODO: Read https://github.gatech.edu/pages/cs6035-tools/cs6035-tools.github.io/Projects/Machine_Learning/Task1.html and implement the function as described\n",
    "    def __init__(self, length:int, width:int, height:int):\n",
    "        pass"
   ]
  },
  {
   "cell_type": "code",
   "execution_count": null,
   "id": "f1fa1c58",
   "metadata": {},
   "outputs": [],
   "source": [
    "# Run this cell to test your code\n",
    "\n",
    "sc = simpleClass(length=1, width=2, height=3)\n",
    "\n",
    "if sc.length == 1 and sc.width == 2 and sc.height == 3:\n",
    "    print('Passed...')\n",
    "else:\n",
    "    print('Failed...')"
   ]
  },
  {
   "cell_type": "markdown",
   "id": "f397e603",
   "metadata": {},
   "source": [
    "## `find_dataset_statistics`\n",
    "Now that you have learned a bit about pandas DataFrames, you can start using them to generate some simple summary statistics for a DataFrame. You will be given the dataset as an input variable, as well as a column name for a column in the dataset that contains binary values (0 for negative and 1 for positive) that you will summarize.\n",
    "\n",
    "##### Useful Resources\n",
    "* https://www.learndatasci.com/glossary/binary-classification/\n",
    "* https://developers.google.com/machine-learning/crash-course/framing/ml-terminology\n",
    "\n",
    "##### INPUTS\n",
    "* `dataset` - a pandas DataFrame that contains some data\n",
    "* `label_col` - a string containing the name of the `label` column\n",
    "\n",
    "##### OUTPUTS \n",
    "* `n_records` (int) - the number of rows in the dataset \n",
    "* `n_columns` (int) - the number of columns in the dataset\n",
    "* `n_negative` (int) - the number of \"negative\" samples in the dataset **(`label` column equals 0)**\n",
    "* `n_positive` (int) - the number of \"positive\" samples in the dataset **(`label` column equals 1)**\n",
    "* `perc_positive` (float) - the percentage (out of 100%) of positive samples in the dataset "
   ]
  },
  {
   "cell_type": "code",
   "execution_count": null,
   "id": "68d45110",
   "metadata": {},
   "outputs": [],
   "source": [
    "# Write your code here\n",
    "def find_dataset_statistics(dataset:pd.DataFrame,label_col:str) -> tuple[int,int,int,int,float]:\n",
    "    # TODO: Read https://github.gatech.edu/pages/cs6035-tools/cs6035-tools.github.io/Projects/Machine_Learning/Task1.html and implement the function as described\n",
    "\n",
    "    n_records = int # TODO\n",
    "    n_columns = int # TODO\n",
    "    n_negative = int # TODO\n",
    "    n_positive = int # TODO\n",
    "    perc_positive =  float# TODO\n",
    "\n",
    "    return n_records,n_columns,n_negative,n_positive,perc_positive"
   ]
  },
  {
   "cell_type": "code",
   "execution_count": null,
   "id": "94b0b110",
   "metadata": {},
   "outputs": [],
   "source": [
    "# Run this cell to test your code\n",
    "dataset = pd.read_csv(\"../task1/sample.csv\")\n",
    "target_col = \"target\"\n",
    "n_records,n_columns,n_negative,n_positive,perc_positive = find_dataset_statistics(dataset,target_col)\n",
    "\n",
    "if n_records == 10 and n_columns == 5 and n_negative == 5 and n_positive == 5 and perc_positive == 50:\n",
    "    print('Passed...')\n",
    "else:\n",
    "    print('Failed...')"
   ]
  },
  {
   "cell_type": "markdown",
   "id": "668ad742",
   "metadata": {},
   "source": [
    "# You have successfully reached the end of this notebook."
   ]
  }
 ],
 "metadata": {
  "kernelspec": {
   "display_name": "CS6035_ML",
   "language": "python",
   "name": "cs6035_ml"
  },
  "language_info": {
   "codemirror_mode": {
    "name": "ipython",
    "version": 3
   },
   "file_extension": ".py",
   "mimetype": "text/x-python",
   "name": "python",
   "nbconvert_exporter": "python",
   "pygments_lexer": "ipython3",
   "version": "3.11.4"
  }
 },
 "nbformat": 4,
 "nbformat_minor": 5
}
