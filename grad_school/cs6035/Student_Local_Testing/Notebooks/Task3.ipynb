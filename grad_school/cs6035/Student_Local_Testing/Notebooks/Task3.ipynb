{
 "cells": [
  {
   "cell_type": "code",
   "execution_count": null,
   "id": "322ce883",
   "metadata": {},
   "outputs": [],
   "source": [
    "import numpy as np\n",
    "import pandas as pd\n",
    "import sklearn.cluster\n",
    "import yellowbrick.cluster\n",
    "import unittest\n",
    "import os\n",
    "import sys\n",
    "import warnings\n",
    "warnings.filterwarnings(\"ignore\")\n",
    "\n",
    "task_path = os.path.abspath(os.path.join(os.getcwd(),\"..\"))\n",
    "sys.path.append(task_path)\n",
    "from task3 import *\n",
    "utils_path = os.path.abspath(os.path.join(os.getcwd(),\"..\",\"tests\"))\n",
    "sys.path.append(utils_path)\n",
    "from utils import *"
   ]
  },
  {
   "cell_type": "code",
   "execution_count": null,
   "id": "409e43e2",
   "metadata": {},
   "outputs": [],
   "source": [
    "# Load all input and output datasets. These will be used in the validation step\n",
    "kmeans_train_dataset = pd.read_csv(os.path.join(os.getcwd(),\"..\",\"task3\", \"wine_train_features.csv\"))\n",
    "#print('means_train_dataset : \\n',kmeans_train_dataset)\n",
    "kmeans_test_dataset = pd.read_csv(os.path.join(os.getcwd(),\"..\",\"task3\", \"wine_test_features.csv\"))\n",
    "#print('kmeans_test_dataset : \\n',kmeans_test_dataset)\n",
    "kmeans_train_cluster_ids = pd.read_csv(os.path.join(os.getcwd(),\"..\",\"task3\", \"ktrain_cluster_ids.csv\"))\n",
    "#print('kmeans_train_cluster_ids : \\n',kmeans_train_cluster_ids)\n",
    "kmeans_test_cluster_ids = pd.read_csv(os.path.join(os.getcwd(),\"..\",\"task3\", \"ktest_cluster_ids.csv\"))\n",
    "#print('kmeans_test_cluster_ids : \\n',kmeans_test_cluster_ids)\n",
    "kmeans_test_feat_ans = pd.read_csv(os.path.join(os.getcwd(),\"..\",\"task3\", \"kmeans_test_feat_df.csv\"))\n",
    "#print('kmeans_test_feat_ans : \\n',kmeans_test_feat_ans)\n",
    "kmeans_train_feat_ans = pd.read_csv(os.path.join(os.getcwd(),\"..\",\"task3\", \"kmeans_train_feat_df.csv\"))\n",
    "#print('kmeans_train_feat_ans : \\n',kmeans_train_feat_ans)"
   ]
  },
  {
   "cell_type": "markdown",
   "id": "ede1bcbe",
   "metadata": {},
   "source": [
    "## KmeansClustering:`kmeans_train`\n",
    "\n",
    "Kmeans Clustering is a process of grouping together similar rows together and assigning them to a cluster. For this method you will use the training data to fit an optimal K-means cluster on the data.\n",
    "\n",
    "To help you get started we have provided a list of subtasks to complete for this task:\n",
    "1. Initialize an sklearn K-means model using random_state from the `__init__` method and setting n_init = 10.\n",
    "2. Initialize a yellowbrick KElbowVisualizer with the K-means model to search for the optimal value of k (between 1 and 10).\n",
    "3. Train the KElbowVisualizer on the training data and determine the optimal k value. \n",
    "4. Now, train a K-means model with the proper initialization for that optimal value of k \n",
    "5. Return the cluster ids for each row of the training set as a list.\n",
    "\n",
    "##### Useful Resources\n",
    "* <https://scikit-learn.org/stable/modules/generated/sklearn.cluster.KMeans.html#sklearn.cluster.KMeans>\n",
    "* <https://www.scikit-yb.org/en/latest/api/cluster/elbow.html>\n",
    "\n",
    "##### INPUTS\n",
    "train features and random state\n",
    "\n",
    "##### OUTPUTS \n",
    "a list of cluster ids that the K-means model has assigned for each row in the train dataset"
   ]
  },
  {
   "cell_type": "code",
   "execution_count": null,
   "id": "7cb752fb",
   "metadata": {},
   "outputs": [],
   "source": [
    "# Write your code here\n",
    "def kmeans_train(train_features,test_features,random_state) -> list:\n",
    "    # TODO: Read the function description in https://github.gatech.edu/pages/cs6035-tools/cs6035-tools.github.io/Projects/Machine_Learning/Task3.html and implement the function as described\n",
    "    cluster_ids = list()\n",
    "\n",
    "    #Train the model\n",
    "    \n",
    "    return cluster_ids"
   ]
  },
  {
   "cell_type": "code",
   "execution_count": null,
   "id": "51f7b072",
   "metadata": {},
   "outputs": [],
   "source": [
    "# Run this cell to test your code\n",
    "random_state = 42\n",
    "train_ids = kmeans_train(kmeans_train_dataset,kmeans_test_dataset,random_state)\n",
    "if compare_submission_to_answer(train_ids,list(kmeans_train_cluster_ids['K Train Cluster IDS']),\"Kmeans Train Cluster IDs\"):\n",
    "    print('Passed...')\n",
    "else:\n",
    "    print('Failed...')    "
   ]
  },
  {
   "cell_type": "markdown",
   "id": "7ea3a947",
   "metadata": {},
   "source": [
    "## KmeansClustering:`kmeans_test`\n",
    "\n",
    "K-means Clustering is a process of grouping together similar rows together and assigning them to a cluster. For this method you will use the training data to fit an optimal K-means cluster on the test data.\n",
    "\n",
    "\n",
    "To help you get started, we have provided a list of subtasks to complete for this task:\n",
    "1. Use the model you trained in the kmeans_train method to generate cluster ids for each row of the test dataset\n",
    "2. Return the cluster ids for each row of the test set as a list.\n",
    "\n",
    "##### Useful Resources\n",
    "* <https://scikit-learn.org/stable/modules/generated/sklearn.cluster.KMeans.html#sklearn.cluster.KMeans>\n",
    "* <https://www.scikit-yb.org/en/latest/api/cluster/elbow.html>\n",
    "\n",
    "##### INPUTS\n",
    "train features, test features and random state\n",
    "\n",
    "##### OUTPUTS \n",
    "a list of cluster ids that the kmeans model has assigned for each row in the test dataset"
   ]
  },
  {
   "cell_type": "code",
   "execution_count": null,
   "id": "904fb6f8",
   "metadata": {},
   "outputs": [],
   "source": [
    "def kmeans_test(train_features,test_features,random_state) -> list:\n",
    "    # TODO: Read the function description in https://github.gatech.edu/pages/cs6035-tools/cs6035-tools.github.io/Projects/Machine_Learning/Task3.html and implement the function as described\n",
    "    cluster_ids = list()\n",
    "\n",
    "    #Train the model\n",
    "\n",
    "    #Process test dataset\n",
    "\n",
    "    return cluster_ids"
   ]
  },
  {
   "cell_type": "code",
   "execution_count": null,
   "id": "ca36fbd5",
   "metadata": {},
   "outputs": [],
   "source": [
    "random_state = 42\n",
    "test_ids = kmeans_test(kmeans_train_dataset,kmeans_test_dataset,random_state)\n",
    "if compare_submission_to_answer(test_ids,list(kmeans_test_cluster_ids['K Test Cluster IDS']),\"Kmeans Test Cluster IDs\"):\n",
    "    print('Passed...')\n",
    "else:\n",
    "    print('Failed...')    "
   ]
  },
  {
   "cell_type": "markdown",
   "id": "94ad3e73",
   "metadata": {},
   "source": [
    "## KmeansClustering:`train_add_kmeans_cluster_id_feature`, `test_add_kmeans_cluster_id_feature`\n",
    "\n",
    "Using the two methods you completed above (`kmeans_train` and `kmeans_test`) you will add a new feature/column to the training and test dataframes. This is similar to the feature engineering method in Task 2. To do this, use the output of the methods (the list of cluster ids) from the corresponding method and add it as a new column (named `kmeans_cluster_id`) in the input dataframe, then return the full dataframe.\n",
    "\n",
    "##### Useful Resources\n",
    "\n",
    "##### INPUTS\n",
    "train features, test features and random state\n",
    "\n",
    "##### OUTPUTS \n",
    "\n",
    "a Pandas dataframe with the `kmeans_cluster_id` added as a feature and all other input columns unchanged"
   ]
  },
  {
   "cell_type": "code",
   "execution_count": null,
   "id": "f5a2db17",
   "metadata": {},
   "outputs": [],
   "source": [
    "def train_add_kmeans_cluster_id_feature(train_features,test_features,random_state) -> pd.DataFrame:\n",
    "    # TODO: Read the function description in https://github.gatech.edu/pages/cs6035-tools/cs6035-tools.github.io/Projects/Machine_Learning/Task3.html and implement the function as described\n",
    "    output_df = pd.DataFrame()\n",
    "\n",
    "    #Train the model\n",
    "\n",
    "    #Process cluster ids\n",
    "        \n",
    "    return output_df"
   ]
  },
  {
   "cell_type": "code",
   "execution_count": null,
   "id": "f68df2dc",
   "metadata": {},
   "outputs": [],
   "source": [
    "random_state = 42\n",
    "train_features_and_id = train_add_kmeans_cluster_id_feature(kmeans_train_dataset,kmeans_test_dataset,random_state)\n",
    "if compare_submission_to_answer_df(train_features_and_id,kmeans_train_feat_ans,\"Kmeans Train DF\"):\n",
    "    print('Passed...')\n",
    "else:\n",
    "    print('Failed...')"
   ]
  },
  {
   "cell_type": "code",
   "execution_count": null,
   "id": "2826feac",
   "metadata": {},
   "outputs": [],
   "source": [
    "def test_add_kmeans_cluster_id_feature(train_features,test_features,random_state) -> pd.DataFrame:\n",
    "    # TODO: Read the function description in https://github.gatech.edu/pages/cs6035-tools/cs6035-tools.github.io/Projects/Machine_Learning/Task3.html and implement the function as described\n",
    "    output_df = pd.DataFrame()\n",
    "\n",
    "    #Train the model\n",
    "\n",
    "    #Process test dataset\n",
    "    \n",
    "    #Process cluster ids\n",
    "\n",
    "    return output_df"
   ]
  },
  {
   "cell_type": "code",
   "execution_count": null,
   "id": "c2b86b06",
   "metadata": {},
   "outputs": [],
   "source": [
    "random_state = 42\n",
    "test_features_and_id = test_add_kmeans_cluster_id_feature(kmeans_train_dataset,kmeans_test_dataset,random_state)\n",
    "\n",
    "if compare_submission_to_answer_df(test_features_and_id,kmeans_test_feat_ans,\"Kmeans Test DF\"):\n",
    "    print('Passed...')\n",
    "else:\n",
    "    print('Failed...')    "
   ]
  },
  {
   "cell_type": "markdown",
   "id": "d0383cf4",
   "metadata": {},
   "source": [
    "# You have successfully reached the end of this notebook."
   ]
  }
 ],
 "metadata": {
  "kernelspec": {
   "display_name": "Python 3 (ipykernel)",
   "language": "python",
   "name": "python3"
  },
  "language_info": {
   "codemirror_mode": {
    "name": "ipython",
    "version": 3
   },
   "file_extension": ".py",
   "mimetype": "text/x-python",
   "name": "python",
   "nbconvert_exporter": "python",
   "pygments_lexer": "ipython3",
   "version": "3.11.4"
  }
 },
 "nbformat": 4,
 "nbformat_minor": 5
}
